{
 "cells": [
  {
   "cell_type": "markdown",
   "metadata": {},
   "source": [
    "# kmeans_CNN_clustering\n",
    "- In [CNN_transfer_learning](./CNN_transfer_learning), we used a pre-trained convolutional neural network to generate a new feature set to better represent the galaxy images. These features were then compressed by a principal component analysis.\n",
    "- Here, we take the output from the PCA to cluster together galaxy images using the K-means clustering algorithm.\n",
    "- We select 10 clusters as a baseline, before exploring more complex clustering algorithms. \n",
    "- Using output from CNN with 128 vs 37632 output features (compressed to 20 vs 100). Both return sensible clustering, potentially better performance with more parameters (however needs to be quantified)."
   ]
  },
  {
   "cell_type": "code",
   "execution_count": 10,
   "metadata": {},
   "outputs": [],
   "source": [
    "import matplotlib.pyplot as plt\n",
    "import numpy as np \n",
    "import seaborn as sns\n",
    "\n",
    "from sklearn.cluster import KMeans\n",
    "import cluster_evaluate"
   ]
  },
  {
   "cell_type": "markdown",
   "metadata": {},
   "source": [
    "### Loading set of features \n",
    "- Also weights in case we want to manipulate feature space to rank pca components that best describe the variance in the data\n",
    "- Several feature representations were generated, so selecting combination of output features from CNN and the number of features these were compressed to by the pca."
   ]
  },
  {
   "cell_type": "code",
   "execution_count": 11,
   "metadata": {},
   "outputs": [
    {
     "data": {
      "text/plain": [
       "'./cluster_plots/kmeans/CNN-37632_PCA-100/'"
      ]
     },
     "execution_count": 11,
     "metadata": {},
     "output_type": "execute_result"
    }
   ],
   "source": [
    "pca_feat = 100\n",
    "cnn_feat = 37632\n",
    "\n",
    "features = np.load('./features/CNN-' + str(cnn_feat) + '_PCA-' + str(pca_feat) + '_features.npy')\n",
    "weights = np.load('./features/CNN-' + str(cnn_feat) + '_PCA-' + str(pca_feat) + '_weights.npy')\n",
    "\n",
    "plot_path = './cluster_plots/kmeans/CNN-' + str(cnn_feat) + '_PCA-' + str(pca_feat) +'/'\n",
    "plot_path"
   ]
  },
  {
   "cell_type": "markdown",
   "metadata": {},
   "source": [
    "### Creating K-means cluster object and fitting to the set of features output from the pca\n",
    "- Generating count plot of cluster sizes"
   ]
  },
  {
   "cell_type": "code",
   "execution_count": 12,
   "metadata": {},
   "outputs": [
    {
     "data": {
      "text/plain": [
       "KMeans(n_clusters=10)"
      ]
     },
     "execution_count": 12,
     "metadata": {},
     "output_type": "execute_result"
    }
   ],
   "source": [
    "kmeans = KMeans(n_clusters=10)\n",
    "kmeans.fit(features)"
   ]
  },
  {
   "cell_type": "code",
   "execution_count": 13,
   "metadata": {},
   "outputs": [
    {
     "data": {
      "image/png": "[encoded data removed]",
      "text/plain": [
       "<Figure size 432x288 with 1 Axes>"
      ]
     },
     "metadata": {
      "needs_background": "light"
     },
     "output_type": "display_data"
    }
   ],
   "source": [
    "fig = plt.figure()\n",
    "ax = fig.add_subplot()\n",
    "\n",
    "sns.countplot(x=kmeans.labels_, ax=ax)\n",
    "ax.set_xlabel('Cluster', fontsize=14)\n",
    "ax.set_ylabel('Galaxy count', fontsize=14)\n",
    "plt.savefig(plot_path + 'cluster_countplot.png', format='png', \n",
    "            bbox_inches='tight', dpi=200)"
   ]
  },
  {
   "cell_type": "markdown",
   "metadata": {},
   "source": [
    "### Plotting galaxies in each cluster\n",
    "- Loading in raw image data"
   ]
  },
  {
   "cell_type": "code",
   "execution_count": 14,
   "metadata": {},
   "outputs": [],
   "source": [
    "# loading in pre-processed data\n",
    "data_dir = '../../sdss_CNN/data/cleaned_datasets/'\n",
    "x = np.load(data_dir + 'x.npy')"
   ]
  },
  {
   "cell_type": "code",
   "execution_count": 15,
   "metadata": {},
   "outputs": [],
   "source": [
    "for cl in np.unique(kmeans.labels_):\n",
    "    cluster_evaluate.save_cluster_plot(images = x[kmeans.labels_ == cl], \n",
    "                                       cluster_number = cl,\n",
    "                                       cluster_total= kmeans.n_clusters - 1,\n",
    "                                       plot_path= plot_path) ;\n",
    "    plt.close()"
   ]
  },
  {
   "cell_type": "markdown",
   "metadata": {},
   "source": [
    "### Saving cluster labels to file."
   ]
  },
  {
   "cell_type": "code",
   "execution_count": 16,
   "metadata": {},
   "outputs": [],
   "source": [
    "label_path = './cluster_tags/'\n",
    "np.save(label_path + 'KMeans-' + str(kmeans.n_clusters) + '_CNN-' + str(cnn_feat) + '_PCA-' + str(pca_feat) + '.npy', \n",
    "        kmeans.labels_)"
   ]
  }
 ],
 "metadata": {
  "kernelspec": {
   "display_name": "Python 3",
   "language": "python",
   "name": "python3"
  },
  "language_info": {
   "codemirror_mode": {
    "name": "ipython",
    "version": 3
   },
   "file_extension": ".py",
   "mimetype": "text/x-python",
   "name": "python",
   "nbconvert_exporter": "python",
   "pygments_lexer": "ipython3",
   "version": "3.7.4"
  }
 },
 "nbformat": 4,
 "nbformat_minor": 4
}
