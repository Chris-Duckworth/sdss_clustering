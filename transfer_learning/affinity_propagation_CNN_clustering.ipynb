{
 "cells": [
  {
   "cell_type": "markdown",
   "metadata": {},
   "source": [
    "# affinity_propagation_CNN_clustering\n",
    "- Theres not really a _good_ answer for how many clusters of galaxies we should have, so now lets try an algorithm that dictates the number of clusters.\n",
    "- Affinity propagation works by finding 'exemplars' (i.e. prime examples for a representative group) through sending 'messages' between each of the samples. Here you define groups (or their exemplars) to minimise a certain metric (e.g. average distance between samples in the parameter space or variance). "
   ]
  },
  {
   "cell_type": "code",
   "execution_count": null,
   "metadata": {},
   "outputs": [],
   "source": [
    "import matplotlib.pyplot as plt\n",
    "import numpy as np \n",
    "import seaborn as sns\n",
    "\n",
    "from sklearn.cluster import AffinityPropagation\n",
    "import cluster_evaluate"
   ]
  },
  {
   "cell_type": "code",
   "execution_count": null,
   "metadata": {},
   "outputs": [],
   "source": [
    "aff_prop = AffinityPropagation(damping=0.9)\n",
    "# fit the model\n",
    "aff_prop.fit(compressed_features)\n",
    "# assign a cluster to each example\n",
    "aff_prop_labels = aff_prop.predict(compressed_features)"
   ]
  },
  {
   "cell_type": "code",
   "execution_count": null,
   "metadata": {},
   "outputs": [],
   "source": [
    "np.unique(aff_prop_labels, return_counts=True)"
   ]
  },
  {
   "cell_type": "code",
   "execution_count": null,
   "metadata": {},
   "outputs": [],
   "source": [
    "# Plotting exemplars for each of the clusters\n",
    "cluster_evaluate.plot_cluster(x[aff_prop.cluster_centers_indices_]) ;"
   ]
  },
  {
   "cell_type": "code",
   "execution_count": null,
   "metadata": {},
   "outputs": [],
   "source": [
    "for cluster in np.unique(aff_prop_labels):\n",
    "    print('Cluster : {}'.format(cluster))\n",
    "    cluster_evaluate.plot_cluster(x[aff_prop_labels == cluster][0:10])\n",
    "    plt.show()"
   ]
  }
 ],
 "metadata": {
  "kernelspec": {
   "display_name": "Python 3",
   "language": "python",
   "name": "python3"
  },
  "language_info": {
   "codemirror_mode": {
    "name": "ipython",
    "version": 3
   },
   "file_extension": ".py",
   "mimetype": "text/x-python",
   "name": "python",
   "nbconvert_exporter": "python",
   "pygments_lexer": "ipython3",
   "version": "3.7.4"
  }
 },
 "nbformat": 4,
 "nbformat_minor": 4
}
