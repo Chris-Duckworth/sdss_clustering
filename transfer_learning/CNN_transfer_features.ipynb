{
 "cells": [
  {
   "cell_type": "markdown",
   "metadata": {},
   "source": [
    "# CNN_transfer_features\n",
    "\n",
    "- In [`sdss_CNN`](https://github.com/Chris-Duckworth/sdss_CNN), a convolutional neural network (CNN) was developed to predict a galaxy's spin based on a galaxy image. Here we are looking to cluster together these galaxy images, to identify distinct groups (as opposed to classical morphological groups).\n",
    "- We will use _transfer_ learning of the trained network to characterise a given galaxy's _features_ (i.e. remove the last few layers that aim to reproduce a galaxy's spin).\n",
    "    - We can also use alternative state-of-the-art networks (e.g. vgg16 or xception) to see if this yields better results.\n",
    "- To compress the number of features used in the clustering (i.e. new output layer of nodes), we can use principal component analysis (PCA) to return new features that explain maximal variance about the dataset.\n",
    "- Finally, these compressed features will be the input of clustering algorithms to group together the galaxy images."
   ]
  },
  {
   "cell_type": "code",
   "execution_count": 1,
   "metadata": {},
   "outputs": [],
   "source": [
    "import keras\n",
    "import numpy as np\n",
    "import matplotlib.pyplot as plt\n",
    "from sklearn.decomposition import PCA"
   ]
  },
  {
   "cell_type": "markdown",
   "metadata": {},
   "source": [
    "### Loading CNN from `sdss_CNN`\n",
    "- Network structure consists of 5 convolutional blocks, followed by flattening and 3 fully connected layers.\n",
    "- In its current format the CNN results in a prediction for galaxy spin (i.e. a continous variable between 0 and 1).\n",
    "- To generate dimensions that better represent the galaxy images, we can remove the last few layers - which correspond to fully connected nodes with dropout - i.e. taking direct (flattened) output from convolutional layers for PCA input"
   ]
  },
  {
   "cell_type": "code",
   "execution_count": 2,
   "metadata": {},
   "outputs": [
    {
     "name": "stdout",
     "output_type": "stream",
     "text": [
      "Model: \"sequential\"\n",
      "_________________________________________________________________\n",
      "Layer (type)                 Output Shape              Param #   \n",
      "=================================================================\n",
      "conv2d (Conv2D)              (None, 75, 75, 64)        6976      \n",
      "_________________________________________________________________\n",
      "dropout (Dropout)            (None, 75, 75, 64)        0         \n",
      "_________________________________________________________________\n",
      "conv2d_1 (Conv2D)            (None, 71, 71, 96)        153696    \n",
      "_________________________________________________________________\n",
      "max_pooling2d (MaxPooling2D) (None, 35, 35, 96)        0         \n",
      "_________________________________________________________________\n",
      "dropout_1 (Dropout)          (None, 35, 35, 96)        0         \n",
      "_________________________________________________________________\n",
      "conv2d_2 (Conv2D)            (None, 34, 34, 128)       49280     \n",
      "_________________________________________________________________\n",
      "max_pooling2d_1 (MaxPooling2 (None, 17, 17, 128)       0         \n",
      "_________________________________________________________________\n",
      "dropout_2 (Dropout)          (None, 17, 17, 128)       0         \n",
      "_________________________________________________________________\n",
      "conv2d_3 (Conv2D)            (None, 15, 15, 192)       221376    \n",
      "_________________________________________________________________\n",
      "dropout_3 (Dropout)          (None, 15, 15, 192)       0         \n",
      "_________________________________________________________________\n",
      "conv2d_4 (Conv2D)            (None, 14, 14, 192)       147648    \n",
      "_________________________________________________________________\n",
      "dropout_4 (Dropout)          (None, 14, 14, 192)       0         \n",
      "_________________________________________________________________\n",
      "flatten (Flatten)            (None, 37632)             0         \n",
      "_________________________________________________________________\n",
      "dense (Dense)                (None, 128)               4817024   \n",
      "_________________________________________________________________\n",
      "dropout_5 (Dropout)          (None, 128)               0         \n",
      "_________________________________________________________________\n",
      "dense_1 (Dense)              (None, 64)                8256      \n",
      "_________________________________________________________________\n",
      "dense_2 (Dense)              (None, 1)                 65        \n",
      "=================================================================\n",
      "Total params: 5,404,321\n",
      "Trainable params: 5,404,321\n",
      "Non-trainable params: 0\n",
      "_________________________________________________________________\n"
     ]
    }
   ],
   "source": [
    "model = keras.models.load_model('../../sdss_CNN/NN/final-model/saved-model-35-0.02.hdf5')\n",
    "model.summary()"
   ]
  },
  {
   "cell_type": "code",
   "execution_count": 5,
   "metadata": {},
   "outputs": [
    {
     "name": "stdout",
     "output_type": "stream",
     "text": [
      "Model: \"functional_5\"\n",
      "_________________________________________________________________\n",
      "Layer (type)                 Output Shape              Param #   \n",
      "=================================================================\n",
      "conv2d_input (InputLayer)    [(None, 80, 80, 3)]       0         \n",
      "_________________________________________________________________\n",
      "conv2d (Conv2D)              (None, 75, 75, 64)        6976      \n",
      "_________________________________________________________________\n",
      "dropout (Dropout)            (None, 75, 75, 64)        0         \n",
      "_________________________________________________________________\n",
      "conv2d_1 (Conv2D)            (None, 71, 71, 96)        153696    \n",
      "_________________________________________________________________\n",
      "max_pooling2d (MaxPooling2D) (None, 35, 35, 96)        0         \n",
      "_________________________________________________________________\n",
      "dropout_1 (Dropout)          (None, 35, 35, 96)        0         \n",
      "_________________________________________________________________\n",
      "conv2d_2 (Conv2D)            (None, 34, 34, 128)       49280     \n",
      "_________________________________________________________________\n",
      "max_pooling2d_1 (MaxPooling2 (None, 17, 17, 128)       0         \n",
      "_________________________________________________________________\n",
      "dropout_2 (Dropout)          (None, 17, 17, 128)       0         \n",
      "_________________________________________________________________\n",
      "conv2d_3 (Conv2D)            (None, 15, 15, 192)       221376    \n",
      "_________________________________________________________________\n",
      "dropout_3 (Dropout)          (None, 15, 15, 192)       0         \n",
      "_________________________________________________________________\n",
      "conv2d_4 (Conv2D)            (None, 14, 14, 192)       147648    \n",
      "_________________________________________________________________\n",
      "dropout_4 (Dropout)          (None, 14, 14, 192)       0         \n",
      "_________________________________________________________________\n",
      "flatten (Flatten)            (None, 37632)             0         \n",
      "=================================================================\n",
      "Total params: 578,976\n",
      "Trainable params: 578,976\n",
      "Non-trainable params: 0\n",
      "_________________________________________________________________\n"
     ]
    }
   ],
   "source": [
    "feature_model = keras.Model(inputs=model.inputs, outputs=model.layers[-5].output)\n",
    "feature_model.summary()"
   ]
  },
  {
   "cell_type": "markdown",
   "metadata": {},
   "source": [
    "### Generating CNN feature set for each galaxy image\n",
    "- Removing last 4/5 `keras` layers results in 128/37632 output features to describe the image data."
   ]
  },
  {
   "cell_type": "code",
   "execution_count": 6,
   "metadata": {},
   "outputs": [],
   "source": [
    "# loading in pre-processed data\n",
    "data_dir = '../../sdss_CNN/data/cleaned_datasets/'\n",
    "x = np.load(data_dir + 'x.npy')\n",
    "\n",
    "features = feature_model.predict(x, use_multiprocessing=True) "
   ]
  },
  {
   "cell_type": "markdown",
   "metadata": {},
   "source": [
    "### Using PCA to drop highly correlated dimensions.\n",
    "- Creating variance ratio plot to describe relative importance of PCA features."
   ]
  },
  {
   "cell_type": "code",
   "execution_count": 7,
   "metadata": {},
   "outputs": [
    {
     "name": "stdout",
     "output_type": "stream",
     "text": [
      "The compressed 100 features explain 94.36% of the variance in the 37632 output features from the CNN.\n"
     ]
    }
   ],
   "source": [
    "# creating pca object\n",
    "pca = PCA(n_components=100) \n",
    "pca.fit(features)\n",
    "compressed_features = pca.transform(features)\n",
    "\n",
    "print('The compressed {} features explain {:2.2%} of the variance in the {} output features from the CNN.'.format(pca.n_components_, \n",
    "                                                                                                                  np.sum(pca.explained_variance_ratio_),\n",
    "                                                                                                                  features.shape[1]))\n"
   ]
  },
  {
   "cell_type": "code",
   "execution_count": 8,
   "metadata": {},
   "outputs": [
    {
     "data": {
      "image/png": "[encoded data removed]",
      "text/plain": [
       "<Figure size 432x288 with 1 Axes>"
      ]
     },
     "metadata": {
      "needs_background": "light"
     },
     "output_type": "display_data"
    }
   ],
   "source": [
    "fig = plt.figure()\n",
    "ax = fig.add_subplot()\n",
    "ax.bar(np.arange(pca.explained_variance_ratio_.shape[0]) + 0.5, \n",
    "       pca.explained_variance_ratio_, \n",
    "       color='salmon')\n",
    "\n",
    "ax.set_xlabel('Variance ordered PCA feature', fontsize=14)\n",
    "ax.set_ylabel('Variance ratio', fontsize=14)\n",
    "ax.annotate('Original features : {} \\nPCA features : {} \\n{:2.2%} total variance explained'.format(features.shape[1], pca.n_components_, np.sum(pca.explained_variance_ratio_)) , (0.35, 0.7), \n",
    "            xycoords = 'figure fraction', fontsize=14)\n",
    "ax.set_xlim([0, pca.n_components_])\n",
    "ax.set_yscale('log')\n",
    "ax.set_ylim([10**-4, 1])\n",
    "\n",
    "plt.savefig('./pca_variance_plots/pca_feature_variance-' + str(features.shape[1]) + '-' + str(pca.n_components_) + '.png',\n",
    "            format='png', dpi=200, bbox_inches='tight')"
   ]
  },
  {
   "cell_type": "markdown",
   "metadata": {},
   "source": [
    "### Saving output files of compressed features\n",
    "- Also saving variance described by each PCA component (might be useful for weighting parameter space in clustering)"
   ]
  },
  {
   "cell_type": "code",
   "execution_count": 8,
   "metadata": {},
   "outputs": [],
   "source": [
    "np.save('./features/CNN-' + str(features.shape[1]) + '_PCA-' + str(pca.n_components_) + '_features.npy', compressed_features)\n",
    "np.save('./features/CNN-' + str(features.shape[1]) + '_PCA-' + str(pca.n_components_) + '_weights.npy', pca.explained_variance_ratio_)"
   ]
  }
 ],
 "metadata": {
  "kernelspec": {
   "display_name": "Python 3",
   "language": "python",
   "name": "python3"
  },
  "language_info": {
   "codemirror_mode": {
    "name": "ipython",
    "version": 3
   },
   "file_extension": ".py",
   "mimetype": "text/x-python",
   "name": "python",
   "nbconvert_exporter": "python",
   "pygments_lexer": "ipython3",
   "version": "3.7.4"
  }
 },
 "nbformat": 4,
 "nbformat_minor": 4
}
