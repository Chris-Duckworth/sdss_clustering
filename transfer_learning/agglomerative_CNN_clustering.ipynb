{
 "cells": [
  {
   "cell_type": "markdown",
   "metadata": {},
   "source": [
    "# agglomerative_CNN_clustering\n",
    "- In [CNN_transfer_learning](./CNN_transfer_learning), we used a pre-trained convolutional neural network to generate a new feature set to better represent the galaxy images. These features were then compressed by a principal component analysis.\n",
    "- In [kmeans_CNN_clustering](./kmeans_CNN_clustering.ipynb), we did a basic grouping into 10 clusters. Since there is not really a _good_ answer for how many clusters of galaxies we should have, so now lets try an algorithm that dictates the number of clusters.\n",
    "- In [affinity_propagation_CNN_clustering](./affinity_propagation_CNN_clustering.ipynb), we used affinity propagation to automatically generate the clusters (and hence number and sizes). Using the higher dimensionality parameter space (i.e. output from CNN compress by the pca), we find that the process results in very precise clusters! The visual similarity is striking, however, is clustering based on postion angle (i.e. which direction the galaxy is pointing), colour, spiral (or other) structure and size/footprint of the galaxy in the image. Connecting these clusters is the difficult part, since many may simply be the same catagory/type of galaxy but viewed in a different way (position angle or footprint).\n",
    "- To help aid this, we now look to hierarchical clustering (i.e. agglomerative - bottom-up) clustering to help define several levels of similarity (i.e, using ~175 clusters as a starting point)."
   ]
  },
  {
   "cell_type": "code",
   "execution_count": 2,
   "metadata": {},
   "outputs": [
    {
     "name": "stderr",
     "output_type": "stream",
     "text": [
      "/opt/miniconda3/lib/python3.7/importlib/_bootstrap.py:219: RuntimeWarning: numpy.ufunc size changed, may indicate binary incompatibility. Expected 192 from C header, got 216 from PyObject\n",
      "  return f(*args, **kwds)\n",
      "/opt/miniconda3/lib/python3.7/importlib/_bootstrap.py:219: RuntimeWarning: numpy.ufunc size changed, may indicate binary incompatibility. Expected 192 from C header, got 216 from PyObject\n",
      "  return f(*args, **kwds)\n"
     ]
    }
   ],
   "source": [
    "import matplotlib.pyplot as plt\n",
    "import numpy as np \n",
    "import seaborn as sns\n",
    "\n",
    "from sklearn.cluster import AgglomerativeClustering\n",
    "import cluster_evaluate"
   ]
  },
  {
   "cell_type": "markdown",
   "metadata": {},
   "source": [
    "### Loading set of features \n",
    "- Also weights in case we want to manipulate feature space to rank pca components that best describe the variance in the data\n",
    "- Several feature representations were generated, so selecting combination of output features from CNN and the number of features these were compressed to by the pca."
   ]
  },
  {
   "cell_type": "code",
   "execution_count": 3,
   "metadata": {},
   "outputs": [
    {
     "data": {
      "text/plain": [
       "'./cluster_plots/affinity_propagation/CNN-37632_PCA-100/'"
      ]
     },
     "execution_count": 3,
     "metadata": {},
     "output_type": "execute_result"
    }
   ],
   "source": [
    "pca_feat = 100\n",
    "cnn_feat = 37632\n",
    "\n",
    "features = np.load('./features/CNN-' + str(cnn_feat) + '_PCA-' + str(pca_feat) + '_features.npy')\n",
    "weights = np.load('./features/CNN-' + str(cnn_feat) + '_PCA-' + str(pca_feat) + '_weights.npy')\n",
    "\n",
    "plot_path = './cluster_plots/affinity_propagation/CNN-' + str(cnn_feat) + '_PCA-' + str(pca_feat) +'/'\n",
    "plot_path"
   ]
  },
  {
   "cell_type": "markdown",
   "metadata": {},
   "source": [
    "### Defining agglomerative model"
   ]
  },
  {
   "cell_type": "code",
   "execution_count": null,
   "metadata": {},
   "outputs": [],
   "source": [
    "# define the model\n",
    "agglo = AgglomerativeClustering(n_clusters=10, linkage='ward')\n",
    "# fit the model\n",
    "agglo_labels = agglo.fit_predict(compressed_features)"
   ]
  }
 ],
 "metadata": {
  "kernelspec": {
   "display_name": "Python 3",
   "language": "python",
   "name": "python3"
  },
  "language_info": {
   "codemirror_mode": {
    "name": "ipython",
    "version": 3
   },
   "file_extension": ".py",
   "mimetype": "text/x-python",
   "name": "python",
   "nbconvert_exporter": "python",
   "pygments_lexer": "ipython3",
   "version": "3.7.4"
  }
 },
 "nbformat": 4,
 "nbformat_minor": 4
}
