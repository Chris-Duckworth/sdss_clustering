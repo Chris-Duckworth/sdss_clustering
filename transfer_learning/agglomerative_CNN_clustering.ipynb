{
 "cells": [
  {
   "cell_type": "markdown",
   "metadata": {},
   "source": [
    "# agglomerative_CNN_clustering\n",
    "\n",
    "(Hierarchical clustering)\n",
    "- Affinity propagation appears to do quite a good job at grouping together individual clusters (and helps intuit the ballpark number of catagories), however, the clustering of galaxies is most likely hierarchical in structure (clustering-wise at least). \n",
    "- Using agglomerative clustering to construct clusters"
   ]
  },
  {
   "cell_type": "code",
   "execution_count": null,
   "metadata": {},
   "outputs": [],
   "source": [
    "import matplotlib.pyplot as plt\n",
    "import numpy as np \n",
    "import seaborn as sns\n",
    "\n",
    "from sklearn.cluster import AgglomerativeClustering\n",
    "import cluster_evaluate"
   ]
  },
  {
   "cell_type": "markdown",
   "metadata": {},
   "source": [
    "### Loading set of features \n",
    "- Also weights in case we want to manipulate feature space to rank pca components that best describe the variance in the data\n",
    "- Several feature representations were generated, so selecting combination of output features from CNN and the number of features these were compressed to by the pca."
   ]
  },
  {
   "cell_type": "code",
   "execution_count": null,
   "metadata": {},
   "outputs": [],
   "source": []
  },
  {
   "cell_type": "code",
   "execution_count": null,
   "metadata": {},
   "outputs": [],
   "source": [
    "# define the model\n",
    "agglo = AgglomerativeClustering(n_clusters=10, linkage='ward')\n",
    "# fit the model\n",
    "agglo_labels = agglo.fit_predict(compressed_features)"
   ]
  },
  {
   "cell_type": "code",
   "execution_count": null,
   "metadata": {},
   "outputs": [],
   "source": [
    "for cluster in np.unique(agglo_labels):\n",
    "    print('Cluster : {}'.format(cluster))\n",
    "    cluster_evaluate.plot_cluster(x[agglo_labels == cluster][0:10])\n",
    "    plt.show()"
   ]
  }
 ],
 "metadata": {
  "kernelspec": {
   "display_name": "Python 3",
   "language": "python",
   "name": "python3"
  },
  "language_info": {
   "codemirror_mode": {
    "name": "ipython",
    "version": 3
   },
   "file_extension": ".py",
   "mimetype": "text/x-python",
   "name": "python",
   "nbconvert_exporter": "python",
   "pygments_lexer": "ipython3",
   "version": "3.7.4"
  }
 },
 "nbformat": 4,
 "nbformat_minor": 4
}
